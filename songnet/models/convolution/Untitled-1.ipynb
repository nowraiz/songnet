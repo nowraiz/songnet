{
 "cells": [
  {
   "cell_type": "code",
   "execution_count": 18,
   "metadata": {},
   "outputs": [],
   "source": [
    "import torch\n",
    "import torch.nn as nn\n",
    "import torch.nn.functional as F\n",
    "\n",
    "\n",
    "class net(nn.Module):\n",
    "    def __init__(self):\n",
    "        super().__init__()\n",
    "        self.layers = nn.Sequential(\n",
    "            nn.Conv1d(1, 128, 4096, 2048),\n",
    "            nn.Tanh(),\n",
    "            nn.Conv1d(128, 128, 128, stride=64),\n",
    "            nn.Tanh(),\n",
    "            nn.Conv1d(128, 64, 5, 1, padding=\"same\"),\n",
    "            nn.Tanh(),\n",
    "            nn.Conv1d(64, 32, 3, 1, padding=\"same\"),\n",
    "            nn.Tanh(),\n",
    "            nn.Conv1d(32, 16, 3, 1, padding=\"same\"),\n",
    "            nn.Tanh(),\n",
    "            nn.Conv1d(16, 1, 3, padding=\"same\"),\n",
    "            nn.Tanh(),\n",
    "            nn.ConvTranspose1d(1, 16, 3, padding=1),\n",
    "            nn.Tanh(),\n",
    "            nn.ConvTranspose1d(16, 32, 3, padding=1),\n",
    "            nn.Tanh(),\n",
    "            nn.ConvTranspose1d(32, 64, 3, padding=1),\n",
    "            nn.Tanh(),\n",
    "            nn.ConvTranspose1d(64, 128, 5, padding=2),\n",
    "            nn.Tanh(),\n",
    "            nn.ConvTranspose1d(128, 128, 128, 64, output_padding=6),\n",
    "            nn.Tanh(),\n",
    "            nn.ConvTranspose1d(128, 1, 4096, 2048, output_padding=1952),\n",
    "            nn.Tanh()\n",
    "            # inverse\n",
    "          \n",
    "        )\n",
    "    \n",
    "    def forward(self, x):\n",
    "        return self.layers(x)\n"
   ]
  },
  {
   "cell_type": "code",
   "execution_count": 16,
   "metadata": {},
   "outputs": [],
   "source": [
    "conv1 = nn.Conv1d(1, 128, 4096, 2048)\n",
    "conv2 = nn.Conv1d(128, 128, 128, stride=64)\n",
    "convinv = nn.ConvTranspose1d(128, 128, 128, 64, output_padding=6)"
   ]
  },
  {
   "cell_type": "code",
   "execution_count": null,
   "metadata": {},
   "outputs": [],
   "source": [
    "x = nn.Conv1d(1, 128, 2, dilation=1)"
   ]
  },
  {
   "cell_type": "code",
   "execution_count": 20,
   "metadata": {},
   "outputs": [
    {
     "name": "stdout",
     "output_type": "stream",
     "text": [
      "torch.Size([1, 15876000])\n",
      "torch.Size([1, 128, 7750])\n"
     ]
    },
    {
     "data": {
      "text/plain": [
       "torch.Size([1, 128, 7750])"
      ]
     },
     "execution_count": 20,
     "metadata": {},
     "output_type": "execute_result"
    }
   ],
   "source": [
    "network = net()\n",
    "import torchaudio\n",
    "criterion = nn.MSELoss()\n",
    "def pad(x):\n",
    "    padd = nn.ConstantPad1d((0,44100*360-x.size(1)), 0)\n",
    "    return padd(x)\n",
    "x = torchaudio.load(\"../../../data/test.wav\")\n",
    "wav = x[0]\n",
    "wav = pad(wav)\n",
    "print(wav.size())\n",
    "wav = wav.unsqueeze(0)\n",
    "print(conv1(wav).size())\n",
    "convinv(conv2(conv1(wav))).size()"
   ]
  },
  {
   "cell_type": "code",
   "execution_count": 23,
   "metadata": {},
   "outputs": [
    {
     "name": "stdout",
     "output_type": "stream",
     "text": [
      "net(\n",
      "  (layers): Sequential(\n",
      "    (0): Conv1d(1, 128, kernel_size=(4096,), stride=(2048,))\n",
      "    (1): Tanh()\n",
      "    (2): Conv1d(128, 128, kernel_size=(128,), stride=(64,))\n",
      "    (3): Tanh()\n",
      "    (4): Conv1d(128, 64, kernel_size=(5,), stride=(1,), padding=same)\n",
      "    (5): Tanh()\n",
      "    (6): Conv1d(64, 32, kernel_size=(3,), stride=(1,), padding=same)\n",
      "    (7): Tanh()\n",
      "    (8): Conv1d(32, 16, kernel_size=(3,), stride=(1,), padding=same)\n",
      "    (9): Tanh()\n",
      "    (10): Conv1d(16, 1, kernel_size=(3,), stride=(1,), padding=same)\n",
      "    (11): Tanh()\n",
      "    (12): ConvTranspose1d(1, 16, kernel_size=(3,), stride=(1,), padding=(1,))\n",
      "    (13): Tanh()\n",
      "    (14): ConvTranspose1d(16, 32, kernel_size=(3,), stride=(1,), padding=(1,))\n",
      "    (15): Tanh()\n",
      "    (16): ConvTranspose1d(32, 64, kernel_size=(3,), stride=(1,), padding=(1,))\n",
      "    (17): Tanh()\n",
      "    (18): ConvTranspose1d(64, 128, kernel_size=(5,), stride=(1,), padding=(2,))\n",
      "    (19): Tanh()\n",
      "    (20): ConvTranspose1d(128, 128, kernel_size=(128,), stride=(64,), output_padding=(6,))\n",
      "    (21): Tanh()\n",
      "    (22): ConvTranspose1d(128, 1, kernel_size=(4096,), stride=(2048,), output_padding=(1952,))\n",
      "    (23): Tanh()\n",
      "  )\n",
      ")\n"
     ]
    }
   ],
   "source": [
    "44100*360 - 29461407\n",
    "len(list(network.parameters()))\n",
    "print(network)"
   ]
  },
  {
   "cell_type": "code",
   "execution_count": null,
   "metadata": {},
   "outputs": [],
   "source": []
  }
 ],
 "metadata": {
  "interpreter": {
   "hash": "31f2aee4e71d21fbe5cf8b01ff0e069b9275f58929596ceb00d14d90e3e16cd6"
  },
  "kernelspec": {
   "display_name": "Python 3.8.10 64-bit",
   "language": "python",
   "name": "python3"
  },
  "language_info": {
   "codemirror_mode": {
    "name": "ipython",
    "version": 3
   },
   "file_extension": ".py",
   "mimetype": "text/x-python",
   "name": "python",
   "nbconvert_exporter": "python",
   "pygments_lexer": "ipython3",
   "version": "3.8.10"
  },
  "orig_nbformat": 4
 },
 "nbformat": 4,
 "nbformat_minor": 2
}
